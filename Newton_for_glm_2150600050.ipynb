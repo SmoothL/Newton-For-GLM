{
 "cells": [
  {
   "cell_type": "markdown",
   "metadata": {},
   "source": [
    "# Newton-R For GLM\n",
    "Author: Smooth  \n",
    "Date: 2018.9.15"
   ]
  },
  {
   "cell_type": "markdown",
   "metadata": {},
   "source": [
    "## The Model\n",
    "The basic model is $y=X\\beta$  \n",
    "The nural link is $h_\\beta(X)=X\\beta$  \n",
    "Based on the least squre, the loss function  \n",
    "\\begin{equation}\n",
    "\\begin{aligned}\n",
    "f(\\beta)&=||X\\beta-y||_2\\\\\n",
    "\\\\\n",
    "&=(X\\beta-y)^T(X\\beta-y)\n",
    "\\end{aligned}\n",
    "\\end{equation}  \n",
    "  \n",
    "The gradient is   \n",
    "\\begin{equation}\n",
    "\\begin{aligned}\n",
    "\\frac{\\partial f(\\beta)}{\\partial \\beta}&=\\frac{\\partial (X\\beta-y)^T(X\\beta-y)}{\\partial \\beta}\\\\\n",
    "&=2\\frac{\\partial (X\\beta-y)^T}{\\partial \\beta}(X\\beta-y)\\\\\n",
    "\\\\\n",
    "&=2X^T(X\\beta-y)\\\\\n",
    "\\\\\n",
    "&=2X^TX\\beta-2X^Ty\n",
    "\\end{aligned}\n",
    "\\end{equation}  \n",
    "  \n",
    "The Hession Matrix is\n",
    "\\begin{equation}\n",
    "\\begin{aligned}\n",
    "\\frac{\\partial^2 f(\\beta)}{\\partial \\beta \\beta^T}&=\\frac{\\partial 2X^TX\\beta-2X^Ty}{\\partial \\beta}\\\\\n",
    "&=2X^TX\n",
    "\\end{aligned}\n",
    "\\end{equation}  "
   ]
  },
  {
   "cell_type": "code",
   "execution_count": 1,
   "metadata": {},
   "outputs": [],
   "source": [
    "__author__ = 'Smooth'\n",
    "\n",
    "import numpy as np\n",
    "import matplotlib.pyplot as plt"
   ]
  },
  {
   "cell_type": "code",
   "execution_count": 2,
   "metadata": {},
   "outputs": [],
   "source": [
    "def p(A, B):\n",
    "    return np.dot(A, B)\n",
    "\n",
    "class Newton_R(object):\n",
    "    def __init__(self, niters = 100, intercept = True, tol = 1e-5):\n",
    "        self.niters = niters\n",
    "        self.tol = tol\n",
    "        self.intercept = intercept\n",
    "        \n",
    "    def print_res(self):\n",
    "        s = (\"%s(niters = %s, intercept = %s, tol = %s)\\n\"\n",
    "                              % (self.__class__.__name__, self.niters, self.intercept, self.tol))\n",
    "        print s\n",
    "        return s\n",
    "    \n",
    "    def fit(self, X, y, beta_init = None, verbose = 1):\n",
    "        self.n, p = X.shape\n",
    "        if self.intercept:\n",
    "            self.p = p + 1\n",
    "            beta = np.zeros(self.p).reshape(-1, 1)\n",
    "            X = np.append(np.ones((self.n, 1)), X, axis = 1)\n",
    "        else:\n",
    "            self.p = p \n",
    "            beta = np.zeros(self.p).reshape(-1, 1)\n",
    "        \n",
    "        if not beta_init is None:\n",
    "            for i in np.arange(len(beta_init)):\n",
    "                beta[i] = beta_init[i]\n",
    "                \n",
    "        niter = 1\n",
    "        tol = np.inf\n",
    "        while 1:\n",
    "            g = self._derivative(X, y, beta)\n",
    "            H = self._Hessian(X, beta)\n",
    "            beta_new = beta - np.dot(np.linalg.inv(H), g)\n",
    "\n",
    "            if verbose:\n",
    "                print(\"iteration %s:\\n %s\" % (niter, str(beta_new.reshape(-1))))\n",
    "        \n",
    "            tol = np.sqrt(np.sum((beta_new - beta) ** 2))\n",
    "            if tol < self.tol or niter >= self.niters:\n",
    "                self.coefs_ = beta_new\n",
    "                break\n",
    "            else:\n",
    "                niter += 1\n",
    "                beta = beta_new\n",
    "           \n",
    "        self.niter = niter\n",
    "        \n",
    "        print(\"\\n\")\n",
    "        if self.niter < self.niters:\n",
    "            print(\"Converge!\")\n",
    "        else:\n",
    "            print(\"Not converge!\")\n",
    "        print(\"iteration %s: %s\" % (niter, str(self.coefs_.reshape(-1))))\n",
    "        \n",
    "        print \n",
    "        return self.coefs_"
   ]
  },
  {
   "cell_type": "code",
   "execution_count": 3,
   "metadata": {},
   "outputs": [],
   "source": [
    "class GLM(Newton_R):\n",
    "    def __init__(self, niters = 200, intercept = True, tol = 1e-5):\n",
    "        super(GLM, self).__init__(niters = niters, intercept = intercept, tol = tol)\n",
    "    \n",
    "    def _derivative(self, X, y, beta):\n",
    "#         gradient = 2*p(X.T, X)*beta + 2*p(X.T, y)\n",
    "        gradient = np.zeros((self.p, 1))\n",
    "        for i in np.arange(self.n):\n",
    "            pi = np.sum(X[i].T * beta.T)\n",
    "            gradient +=2 * (pi - y[i]) * X[i].reshape(-1, 1)\n",
    "        return gradient\n",
    "    \n",
    "    def _Hessian(self, X, beta):\n",
    "#         Hessian = 2*p(X.T,X)\n",
    "        Hessian = np.zeros((self.p, self.p))\n",
    "        for i in np.arange(self.n):\n",
    "            Hessian += np.dot(X[i].reshape(-1, 1), X[i].reshape(1, -1)) #*pi * (1 - pi)\n",
    "        return 2*Hessian  "
   ]
  },
  {
   "cell_type": "markdown",
   "metadata": {},
   "source": [
    "## Simulation 1"
   ]
  },
  {
   "cell_type": "code",
   "execution_count": 4,
   "metadata": {},
   "outputs": [
    {
     "name": "stdout",
     "output_type": "stream",
     "text": [
      "processing...\n",
      "\n",
      "iteration 1:\n",
      " [  0.49948021  88.39415529]\n",
      "iteration 2:\n",
      " [  0.49948021  88.39415529]\n",
      "\n",
      "\n",
      "Converge!\n",
      "iteration 2: [  0.49948021  88.39415529]\n",
      "\n",
      "GLM(niters = 200, intercept = True, tol = 1e-05)\n",
      "\n"
     ]
    },
    {
     "data": {
      "image/png": "[encoded data removed]",
      "text/plain": [
       "<matplotlib.figure.Figure at 0x10778f8d0>"
      ]
     },
     "metadata": {},
     "output_type": "display_data"
    }
   ],
   "source": [
    "if __name__ == '__main__':    \n",
    "    \n",
    "    # Simulation 1\n",
    "    \n",
    "    sampleNo = 100\n",
    "    mu = 0\n",
    "    sigma = 50\n",
    "    np.random.seed(2018)\n",
    "    X = np.linspace(0, 1, 100).reshape([100,1])\n",
    "    y = sigma * np.random.randn(sampleNo ) + mu + np.linspace(0, 100, 100)\n",
    "\n",
    "    glm_model = GLM()\n",
    "    print 'processing...\\n'\n",
    "    s = glm_model.fit(X,y)\n",
    "    glm_model.print_res()\n",
    "    x = np.linspace(0, 1, 1000)\n",
    "\n",
    "    y_hat = s[0]+s[1]*x\n",
    "    plt.scatter(X,y)\n",
    "    plt.plot(x, y_hat, 'r')\n",
    "    plt.show()"
   ]
  },
  {
   "cell_type": "markdown",
   "metadata": {},
   "source": [
    "## Simulation 2"
   ]
  },
  {
   "cell_type": "code",
   "execution_count": 5,
   "metadata": {},
   "outputs": [
    {
     "data": {
      "image/png": "[encoded data removed]",
      "text/plain": [
       "<matplotlib.figure.Figure at 0x10781a350>"
      ]
     },
     "metadata": {},
     "output_type": "display_data"
    },
    {
     "name": "stdout",
     "output_type": "stream",
     "text": [
      "processing...\n",
      "\n",
      "iteration 1:\n",
      " [ 56.92557925  -0.17898794]\n",
      "iteration 2:\n",
      " [ 56.92557925  -0.17898794]\n",
      "\n",
      "\n",
      "Converge!\n",
      "iteration 2: [ 56.92557925  -0.17898794]\n",
      "\n",
      "GLM(niters = 200, intercept = True, tol = 1e-05)\n",
      "\n"
     ]
    },
    {
     "data": {
      "image/png": "[encoded data removed]",
      "text/plain": [
       "<matplotlib.figure.Figure at 0x1077b4950>"
      ]
     },
     "metadata": {},
     "output_type": "display_data"
    }
   ],
   "source": [
    "if __name__ == '__main__':\n",
    "    \n",
    "    # Simulation 2\n",
    "    np.random.seed(20180921) \n",
    "    x1, y1 = 0, 30\n",
    "    x3, y3 = 200, -10\n",
    "    x2, y2 = 100, 100\n",
    "    sample_size = 50\n",
    "    theta = np.arange(0,1,0.001)\n",
    "    X = theta * x1 + (1 - theta) * x2\n",
    "    y = theta * y1 + (1 - theta) * y2\n",
    "    plt.plot(X,y,'g--',linewidth=2)\n",
    "    X = theta * x1 + (1 - theta) * x3\n",
    "    y = theta * y1 + (1 - theta) * y3\n",
    "    plt.plot(X, y, 'g--', linewidth=2)\n",
    "    X = theta * x2 + (1 - theta) * x3\n",
    "    y = theta * y2 + (1 - theta) * y3\n",
    "    plt.plot(X, y, 'g--', linewidth=2)\n",
    "    rnd1 = np.random.random(size = sample_size)\n",
    "    rnd2 = np.random.random(size=sample_size)\n",
    "    rnd2 = np.sqrt(rnd2)\n",
    "    X = rnd2 * (rnd1 * x1 + (1 - rnd1) * x2) + (1 - rnd2) * x3\n",
    "    y = rnd2 * (rnd1 * y1 + (1 - rnd1) * y2) + (1 - rnd2) * y3\n",
    "    \n",
    "    X = X.reshape([50,1])\n",
    "    y = y\n",
    "    plt.scatter(X,y)\n",
    "    plt.show()\n",
    "    \n",
    "    glm_model = GLM()\n",
    "    print 'processing...\\n'\n",
    "    s = glm_model.fit(X,y)\n",
    "    glm_model.print_res()\n",
    "    x = np.linspace(0, 200, 1000)\n",
    "\n",
    "    y_hat = s[0]+s[1]*x\n",
    "    plt.scatter(X,y)\n",
    "    plt.plot(x, y_hat, 'r')\n",
    "    plt.show()"
   ]
  },
  {
   "cell_type": "code",
   "execution_count": 6,
   "metadata": {},
   "outputs": [],
   "source": [
    "class GLM(Newton_R):\n",
    "    def __init__(self, niters = 100, intercept = True, tol = 1e-5):\n",
    "        super(GLM, self).__init__(niters = niters, intercept = intercept, tol = tol)\n",
    "    \n",
    "    def _derivative(self, X, y, beta):\n",
    "        gradient = 2*p(X.T, X)*beta + 2*p(X.T, y)\n",
    "        return gradient\n",
    "    \n",
    "    def _Hessian(self, X, beta):\n",
    "        Hessian = 2*p(X.T,X)\n",
    "        return Hessian  "
   ]
  },
  {
   "cell_type": "markdown",
   "metadata": {},
   "source": [
    "## Real data1\n",
    "\n",
    "Data Set Information:\n",
    "https://archive.ics.uci.edu/ml/datasets/Concrete+Compressive+Strength\n",
    "\n",
    "Number of instances 1030 \n",
    "Number of Attributes\t9 \n",
    "Attribute breakdown\t8 quantitative input variables, and 1 quantitative output variable \n",
    "Missing Attribute Values\tNone \n",
    "\n",
    "\n",
    "Attribute Information:\n",
    "\n",
    "Given are the variable name, variable type, the measurement unit and a brief description. The concrete compressive strength is the regression problem. The order of this listing corresponds to the order of numerals along the rows of the database. "
   ]
  },
  {
   "cell_type": "code",
   "execution_count": 7,
   "metadata": {},
   "outputs": [
    {
     "name": "stdout",
     "output_type": "stream",
     "text": [
      "processing...\n",
      "\n",
      "iteration 1:\n",
      " [[ -5.99134192e+04  -4.75210827e+06  -3.05766779e+06  -1.07056536e+07\n",
      "   -4.32793784e+05  -5.79328846e+07  -4.59735217e+07  -3.31574486e+06\n",
      "    8.05070782e+00   6.38552026e+02   4.10866052e+02   1.43854399e+03\n",
      "    5.81555242e+01   7.78457870e+03   6.17757083e+03   4.45544477e+02\n",
      "    2.17273850e+00   1.72333490e+02   1.10885218e+02   3.88236659e+02\n",
      "    1.56951102e+01   2.10091513e+03   1.66721316e+03   1.20244289e+02\n",
      "    1.10887610e+02   8.79519041e+03   5.65912410e+03   1.98139976e+04\n",
      "    8.01013680e+02   1.07222042e+05   8.50876820e+04   6.13677250e+03\n",
      "    2.73365045e+02   2.16822927e+04   1.39511232e+04   4.88463438e+04\n",
      "    1.97469438e+03   2.64328523e+05   2.09761920e+05   1.51286432e+04\n",
      "    2.30145782e+01   1.82543025e+03   1.17454379e+03   4.11236923e+03\n",
      "    1.66249340e+02   2.22537943e+04   1.76598369e+04   1.27367909e+03\n",
      "    1.93344854e+01   1.53353905e+03   9.86731089e+02   3.45479036e+03\n",
      "    1.39665624e+02   1.86953529e+04   1.48359816e+04   1.07001439e+03\n",
      "   -2.81375701e-01  -2.23176680e+01  -1.43599453e+01  -5.02777312e+01\n",
      "   -2.03256059e+00  -2.72074374e+02  -2.15908758e+02  -1.55719711e+01]]\n",
      "iteration 2:\n",
      " [[ -5.99134192e+04  -4.75210827e+06  -3.05766779e+06  -1.07056536e+07\n",
      "   -4.32793784e+05  -5.79328846e+07  -4.59735217e+07  -3.31574486e+06\n",
      "    8.05070782e+00   6.38552026e+02   4.10866052e+02   1.43854399e+03\n",
      "    5.81555242e+01   7.78457870e+03   6.17757083e+03   4.45544477e+02\n",
      "    2.17273850e+00   1.72333490e+02   1.10885218e+02   3.88236659e+02\n",
      "    1.56951102e+01   2.10091513e+03   1.66721316e+03   1.20244289e+02\n",
      "    1.10887610e+02   8.79519041e+03   5.65912410e+03   1.98139976e+04\n",
      "    8.01013680e+02   1.07222042e+05   8.50876820e+04   6.13677250e+03\n",
      "    2.73365045e+02   2.16822927e+04   1.39511232e+04   4.88463438e+04\n",
      "    1.97469438e+03   2.64328523e+05   2.09761920e+05   1.51286432e+04\n",
      "    2.30145782e+01   1.82543025e+03   1.17454379e+03   4.11236923e+03\n",
      "    1.66249340e+02   2.22537943e+04   1.76598369e+04   1.27367909e+03\n",
      "    1.93344854e+01   1.53353905e+03   9.86731089e+02   3.45479036e+03\n",
      "    1.39665624e+02   1.86953529e+04   1.48359816e+04   1.07001439e+03\n",
      "   -2.81375701e-01  -2.23176680e+01  -1.43599453e+01  -5.02777312e+01\n",
      "   -2.03256059e+00  -2.72074374e+02  -2.15908758e+02  -1.55719711e+01]]\n",
      "\n",
      "\n",
      "Converge!\n",
      "iteration 2: [[ -5.99134192e+04  -4.75210827e+06  -3.05766779e+06  -1.07056536e+07\n",
      "   -4.32793784e+05  -5.79328846e+07  -4.59735217e+07  -3.31574486e+06\n",
      "    8.05070782e+00   6.38552026e+02   4.10866052e+02   1.43854399e+03\n",
      "    5.81555242e+01   7.78457870e+03   6.17757083e+03   4.45544477e+02\n",
      "    2.17273850e+00   1.72333490e+02   1.10885218e+02   3.88236659e+02\n",
      "    1.56951102e+01   2.10091513e+03   1.66721316e+03   1.20244289e+02\n",
      "    1.10887610e+02   8.79519041e+03   5.65912410e+03   1.98139976e+04\n",
      "    8.01013680e+02   1.07222042e+05   8.50876820e+04   6.13677250e+03\n",
      "    2.73365045e+02   2.16822927e+04   1.39511232e+04   4.88463438e+04\n",
      "    1.97469438e+03   2.64328523e+05   2.09761920e+05   1.51286432e+04\n",
      "    2.30145782e+01   1.82543025e+03   1.17454379e+03   4.11236923e+03\n",
      "    1.66249340e+02   2.22537943e+04   1.76598369e+04   1.27367909e+03\n",
      "    1.93344854e+01   1.53353905e+03   9.86731089e+02   3.45479036e+03\n",
      "    1.39665624e+02   1.86953529e+04   1.48359816e+04   1.07001439e+03\n",
      "   -2.81375701e-01  -2.23176680e+01  -1.43599453e+01  -5.02777312e+01\n",
      "   -2.03256059e+00  -2.72074374e+02  -2.15908758e+02  -1.55719711e+01]]\n",
      "\n",
      "GLM(niters = 100, intercept = True, tol = 1e-05)\n",
      "\n"
     ]
    }
   ],
   "source": [
    "import pandas as pd\n",
    "\n",
    "dat = pd.read_table('Concrete_Data.csv', sep=',')\n",
    "y = np.array(np.mat(dat)[:,8]).T[0]\n",
    "X = np.mat(dat)[:,1:8]\n",
    "\n",
    "glm_model = GLM()\n",
    "print 'processing...\\n'\n",
    "s = glm_model.fit(X,y)\n",
    "res = glm_model.print_res()"
   ]
  },
  {
   "cell_type": "markdown",
   "metadata": {},
   "source": [
    "## Real data2\n",
    "\n",
    "Data Set Information: https://archive.ics.uci.edu/ml/datasets/Yacht+Hydrodynamics\n",
    "\n",
    "Prediction of residuary resistance of sailing yachts at the initial design stage is of a great value for evaluating the ship's performance and for estimating the required propulsive power. Essential inputs include the basic hull dimensions and the boat velocity. \n",
    "\n",
    "The Delft data set comprises 308 full-scale experiments, which were performed at the Delft Ship Hydromechanics Laboratory for that purpose. \n",
    "These experiments include 22 different hull forms, derived from a parent form closely related to the Standfast designed by Frans Maas. \n",
    "\n",
    "\n",
    "Attribute Information:\n",
    "\n",
    "Variations concern hull geometry coefficients and the Froude number: \n",
    "\n",
    "1. Longitudinal position of the center of buoyancy, adimensional. \n",
    "2. Prismatic coefficient, adimensional. \n",
    "3. Length-displacement ratio, adimensional. \n",
    "4. Beam-draught ratio, adimensional. \n",
    "5. Length-beam ratio, adimensional. \n",
    "6. Froude number, adimensional. \n",
    "\n",
    "The measured variable is the residuary resistance per unit weight of displacement: \n",
    "\n",
    "7. Residuary resistance per unit weight of displacement, adimensional. "
   ]
  },
  {
   "cell_type": "code",
   "execution_count": 8,
   "metadata": {},
   "outputs": [
    {
     "name": "stdout",
     "output_type": "stream",
     "text": [
      "processing...\n",
      "\n",
      "iteration 1:\n",
      " [[  11651.90444922    6562.09845038   55784.13868511   45757.17036294\n",
      "    37361.28698903    4721.88772392  -25142.72290923  -14159.83316377\n",
      "  -120372.18017044  -98735.77839228  -80618.9658001   -10188.9880035\n",
      "    -5425.28143883   -3055.40017753  -25973.8357372   -21305.14613688\n",
      "   -17395.91134787   -2198.57362687    2435.09637507    1371.39316744\n",
      "    11658.15892932    9562.65305553    7808.02270661     986.81307679\n",
      "     5964.10325974    3358.85287501   28553.47508413   23421.10597519\n",
      "    19123.61833126    2416.92901698    -734.62339485    -413.72387338\n",
      "    -3517.05024      -2884.87499852   -2355.53557819    -297.70319564]]\n",
      "iteration 2:\n",
      " [[  11651.90444921    6562.09845039   55784.13868508   45757.17036293\n",
      "    37361.28698906    4721.88772392  -25142.72290922  -14159.83316378\n",
      "  -120372.18017039  -98735.77839226  -80618.96580016  -10188.98800349\n",
      "    -5425.28143883   -3055.40017753  -25973.83573718  -21305.14613687\n",
      "   -17395.91134789   -2198.57362686    2435.09637506    1371.39316744\n",
      "    11658.15892932    9562.65305553    7808.02270662     986.81307679\n",
      "     5964.10325973    3358.85287502   28553.47508411   23421.10597518\n",
      "    19123.61833129    2416.92901697    -734.62339485    -413.72387338\n",
      "    -3517.05024      -2884.87499852   -2355.53557819    -297.70319564]]\n",
      "\n",
      "\n",
      "Converge!\n",
      "iteration 2: [[  11651.90444921    6562.09845039   55784.13868508   45757.17036293\n",
      "    37361.28698906    4721.88772392  -25142.72290922  -14159.83316378\n",
      "  -120372.18017039  -98735.77839226  -80618.96580016  -10188.98800349\n",
      "    -5425.28143883   -3055.40017753  -25973.83573718  -21305.14613687\n",
      "   -17395.91134789   -2198.57362686    2435.09637506    1371.39316744\n",
      "    11658.15892932    9562.65305553    7808.02270662     986.81307679\n",
      "     5964.10325973    3358.85287502   28553.47508411   23421.10597518\n",
      "    19123.61833129    2416.92901697    -734.62339485    -413.72387338\n",
      "    -3517.05024      -2884.87499852   -2355.53557819    -297.70319564]]\n",
      "\n",
      "GLM(niters = 100, intercept = True, tol = 1e-05)\n",
      "\n"
     ]
    }
   ],
   "source": [
    "dat = pd.read_table('dat.txt', sep='\\s+')\n",
    "y = np.array(np.mat(dat)[:,6]).T[0]\n",
    "X = np.mat(dat)[:,1:6]\n",
    "\n",
    "glm_model = GLM()\n",
    "print 'processing...\\n'\n",
    "s = glm_model.fit(X,y)\n",
    "res = glm_model.print_res()"
   ]
  }
 ],
 "metadata": {
  "kernelspec": {
   "display_name": "Python 2",
   "language": "python",
   "name": "python2"
  },
  "language_info": {
   "codemirror_mode": {
    "name": "ipython",
    "version": 2
   },
   "file_extension": ".py",
   "mimetype": "text/x-python",
   "name": "python",
   "nbconvert_exporter": "python",
   "pygments_lexer": "ipython2",
   "version": "2.7.14"
  }
 },
 "nbformat": 4,
 "nbformat_minor": 2
}
